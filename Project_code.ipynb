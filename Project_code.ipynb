{
 "cells": [
  {
   "cell_type": "markdown",
   "metadata": {},
   "source": [
    "## Common functions"
   ]
  },
  {
   "cell_type": "code",
   "execution_count": 1,
   "metadata": {
    "scrolled": true
   },
   "outputs": [
    {
     "name": "stdout",
     "output_type": "stream",
     "text": [
      "Populating the interactive namespace from numpy and matplotlib\n"
     ]
    }
   ],
   "source": [
    "%pylab inline\n",
    "import pylab, nltk, re, time, string, numpy as np\n",
    "from sklearn.naive_bayes import BernoulliNB, GaussianNB, MultinomialNB\n",
    "from sklearn.svm import SVC,LinearSVC,NuSVC\n",
    "from sklearn.linear_model import LogisticRegression\n",
    "from sklearn.feature_extraction.text import TfidfVectorizer\n",
    "from sklearn.metrics import accuracy_score,classification_report,confusion_matrix\n",
    "from nltk.sentiment.util import mark_negation\n",
    "from nltk.corpus import stopwords\n",
    "from nltk.tokenize import RegexpTokenizer\n",
    "\n",
    "def read_file(path):\n",
    "    print \"Reading from: \", path\n",
    "    review_text = []\n",
    "    review_labels = []\n",
    "    if path.endswith('.txt'):\n",
    "        start = time.time()\n",
    "        f = open(path).readlines()\n",
    "\n",
    "        for i,line in enumerate(f):\n",
    "            pair = line.strip().split(\"\\t\")\n",
    "            review_text.append(pair[0])\n",
    "            review_labels.append(pair[1])\n",
    "        end = time.time()\n",
    "        print \"File loaded in \", round(end-start,4), \"s\"\n",
    "        print \"n =\", len(review_text)\n",
    "    else:\n",
    "        print \"Unknown file type!\"\n",
    "    return review_text,review_labels\n",
    "\n",
    "def tokenize(text):    \n",
    "    # remove punctuation\n",
    "    #clean = re.sub(r'[,.;:\\[\\]\\(\\)\\\"\\/\\\\@#?!&$+-]',' ',text)\n",
    "    # remove digits\n",
    "    clean = re.sub(r'\\d+', '', text)\n",
    "    # tokenize the lower-case text \n",
    "    tokenized_text = nltk.word_tokenize(clean.lower())\n",
    "    return mark_negation(tokenized_text)\n",
    "\n",
    "def evaluate(y_true, y_pred, class_names=['negative','positive']):\n",
    "    print \"Accuracy: \", round(accuracy_score(y_true, y_pred),2)*100.0, \"%\"\n",
    "    print classification_report(y_true, y_pred, target_names=class_names)\n",
    "    cf = confusion_matrix(y_true, y_pred)\n",
    "    print '[[ Confusion matrix ]]'\n",
    "    print '{:>12} | {:>12} | {:>12} |'.format(' ', 'Predicted: +', 'Predicted: -')\n",
    "    print '{:>12} |-{:>12}-|-{:>12}-|'.format(' ', '------------', '------------')\n",
    "    print '{:>12} | {:>12} | {:>12} |'.format('Actual: +', cf[1][1], cf[1][0])\n",
    "    print '{:>12} | {:>12} | {:>12} |'.format('Actual: -', cf[0][1], cf[0][0])\n",
    "    print\n",
    "            \n",
    "def show_most_informative_features(vectorizer, clf, n=20):\n",
    "    feature_names = vectorizer.get_feature_names()\n",
    "    coefs_with_fns = sorted(zip(clf.coef_[0], feature_names))\n",
    "    top = zip(coefs_with_fns[:n], coefs_with_fns[:-(n + 1):-1])\n",
    "    for (coef_1, fn_1), (coef_2, fn_2) in top:\n",
    "        print \"\\t%.4f\\t%-15s\\t\\t%.4f\\t%-15s\" % (coef_1, fn_1, coef_2, fn_2)\n",
    "    \n",
    "    "
   ]
  },
  {
   "cell_type": "markdown",
   "metadata": {},
   "source": [
    "## Load training and validation dataset"
   ]
  },
  {
   "cell_type": "code",
   "execution_count": 2,
   "metadata": {},
   "outputs": [
    {
     "name": "stdout",
     "output_type": "stream",
     "text": [
      "Reading from:  datasets/amazon_cells_labelled.txt\n",
      "File loaded in  0.0028 s\n",
      "n = 1000\n",
      "Divided into: training set ( n = 800 ), validation set ( n = 200 )\n"
     ]
    }
   ],
   "source": [
    "# LOAD SELECTED FILE\n",
    "path = 'datasets/amazon_cells_labelled.txt'   # amazon   n = 1000\n",
    "#path = 'datasets/sa_processed_7817_1.txt'   # kindles    n = 1053\n",
    "#path = 'datasets/amazon_fine_foods_cleaned.txt'   # foods  n = 525814\n",
    "#path = 'datasets/Amazon_unlocked_phones.txt'  # phones   n = 27000\n",
    "#path = 'datasets/tripadvisor_reviews.txt'   # tripadvisor   n = 15000\n",
    "review_text,review_labels = read_file(path)\n",
    "\n",
    "# SPLIT INTO TRAINING AND VALIDATION SETS\n",
    "np.random.seed(514)\n",
    "valid_set_percent = 20\n",
    "\n",
    "if (valid_set_percent < 100.0):\n",
    "    valid_set_size = int(len(review_text)*(valid_set_percent/100.0))\n",
    "    indices = range(len(review_text))\n",
    "    np.random.shuffle(indices)\n",
    "    training_reviews = [review_text[x] for x in indices[valid_set_size:]]\n",
    "    training_labels = [review_labels[x] for x in indices[valid_set_size:]]\n",
    "    valid_reviews = [review_text[x] for x in indices[:valid_set_size]]\n",
    "    valid_labels = [review_labels[x] for x in indices[:valid_set_size]]\n",
    "    print \"Divided into: training set ( n =\",len(training_reviews),\"), validation set ( n =\", len(valid_reviews),\")\"\n",
    "else:\n",
    "    print \"Validation set size must be less than 100%!\"\n"
   ]
  },
  {
   "cell_type": "markdown",
   "metadata": {},
   "source": [
    "## Feature extraction"
   ]
  },
  {
   "cell_type": "code",
   "execution_count": 13,
   "metadata": {},
   "outputs": [
    {
     "name": "stdout",
     "output_type": "stream",
     "text": [
      "Initializing vectorizer...\n",
      "# of features identified:  12\n",
      "Done feature extraction. ( 0.2294 s)\n",
      "\n",
      "Applying features to training set...\n",
      "Features applied. ( 0.2503 s)\n"
     ]
    }
   ],
   "source": [
    "print \"Initializing vectorizer...\"\n",
    "\n",
    "start = time.time()\n",
    "stops = (stopwords.words('english')) + list(string.punctuation)\n",
    "neg_stops = [word + \"_NEG\" for word in stops] \n",
    "\n",
    "# create the transform\n",
    "vectorizer = TfidfVectorizer(lowercase=True,stop_words=(stops + neg_stops),\n",
    "                             strip_accents='unicode',min_df=25,tokenizer=tokenize)\n",
    "    \n",
    "# tokenize and build vocabulary\n",
    "vectorizer.fit(training_reviews)\n",
    "\n",
    "end = time.time()\n",
    "\n",
    "# summarize\n",
    "#print (vectorizer.vocabulary_), (vectorizer.idf_)\n",
    "print \"# of features identified: \", len(vectorizer.vocabulary_)\n",
    "\n",
    "print \"Done feature extraction. (\", round(end-start,4), \"s)\"\n",
    "print\n",
    "\n",
    "# encode document\n",
    "print \"Applying features to training set...\"\n",
    "start = time.time()\n",
    "training_vector = vectorizer.transform(training_reviews)\n",
    "end = time.time()\n",
    "print \"Features applied. (\", round(end-start,4), \"s)\"\n",
    "\n"
   ]
  },
  {
   "cell_type": "code",
   "execution_count": 4,
   "metadata": {},
   "outputs": [],
   "source": [
    "# pickle the vectorizer and training_vector for later reloading\n",
    "#import pickle\n",
    "\n",
    "#f = open('vectorizer.pickle', 'wb')\n",
    "#pickle.dump(vectorizer, f)\n",
    "#f.close()\n",
    "\n",
    "#f = open('training_vector.pickle', 'wb')\n",
    "#pickle.dump(training_vector, f)\n",
    "#f.close()"
   ]
  },
  {
   "cell_type": "markdown",
   "metadata": {},
   "source": [
    "## Training"
   ]
  },
  {
   "cell_type": "code",
   "execution_count": 5,
   "metadata": {},
   "outputs": [
    {
     "name": "stdout",
     "output_type": "stream",
     "text": [
      "Training Naive Bayes classifier...\n",
      "Training SVC classifier...\n",
      "Training Logistic Regression classifier...\n",
      "Done training. ( 0.0086 s)\n"
     ]
    }
   ],
   "source": [
    "start = time.time()\n",
    "# NAIVE BAYES\n",
    "## options: BernoulliNB, GaussianNB, MultinomialNB\n",
    "print \"Training Naive Bayes classifier...\"\n",
    "#classifier_nb = BernoulliNB()\n",
    "#classifier_nb = GaussianNB()\n",
    "classifier_nb = MultinomialNB()\n",
    "classifier_nb.fit(training_vector, training_labels)\n",
    "\n",
    "# SVC\n",
    "## options: LinearSVC, NuSVC\n",
    "print \"Training SVC classifier...\"\n",
    "classifier_svc = LinearSVC()\n",
    "#classifier_svc = NuSVC(nu=0.1)\n",
    "classifier_svc.fit(training_vector, training_labels)\n",
    "\n",
    "# LOGISTIC REGRESSION (MAXENT)\n",
    "# options: ??\n",
    "print \"Training Logistic Regression classifier...\"\n",
    "classifier_logit = LogisticRegression()\n",
    "classifier_logit.fit(training_vector, training_labels)\n",
    "\n",
    "end = time.time()\n",
    "print \"Done training. (\", round(end-start,4), \"s)\"\n"
   ]
  },
  {
   "cell_type": "markdown",
   "metadata": {},
   "source": [
    "## Most informative features"
   ]
  },
  {
   "cell_type": "code",
   "execution_count": 6,
   "metadata": {},
   "outputs": [
    {
     "name": "stdout",
     "output_type": "stream",
     "text": [
      "Most informative features:\n",
      "NAIVE BAYES: \n",
      "\t-3.6205\tn't            \t\t-1.6357\tgreat          \n",
      "\t-3.1959\t's             \t\t-1.7302\tphone          \n",
      "\t-3.1313\tbattery        \t\t-2.0826\tgood           \n",
      "\t-3.0477\tuse            \t\t-2.3868\tworks          \n",
      "\t-2.8891\tquality        \t\t-2.6752\twell           \n",
      "\t-2.7831\theadset        \t\t-2.7148\tproduct        \n",
      "\t-2.7148\tproduct        \t\t-2.7831\theadset        \n",
      "\t-2.6752\twell           \t\t-2.8891\tquality        \n",
      "\t-2.3868\tworks          \t\t-3.0477\tuse            \n",
      "\t-2.0826\tgood           \t\t-3.1313\tbattery        \n",
      "None\n",
      "SVC: \n",
      "\t-0.4185\tn't            \t\t1.2799\tgreat          \n",
      "\t-0.1169\tbattery        \t\t1.2443\tworks          \n",
      "\t0.0137\t's             \t\t1.1931\tgood           \n",
      "\t0.1874\tphone          \t\t1.0129\twell           \n",
      "\t0.2093\tquality        \t\t0.5634\theadset        \n",
      "\t0.2482\tproduct        \t\t0.4434\tuse            \n",
      "\t0.4434\tuse            \t\t0.2482\tproduct        \n",
      "\t0.5634\theadset        \t\t0.2093\tquality        \n",
      "\t1.0129\twell           \t\t0.1874\tphone          \n",
      "\t1.1931\tgood           \t\t0.0137\t's             \n",
      "None\n",
      "LOGISTIC REGRESSION: \n",
      "\t-1.0397\tn't            \t\t3.1709\tgreat          \n",
      "\t-0.2943\tbattery        \t\t2.5960\tgood           \n",
      "\t-0.0406\t's             \t\t2.4173\tworks          \n",
      "\t0.3072\tphone          \t\t1.8587\twell           \n",
      "\t0.3319\tquality        \t\t0.9818\theadset        \n",
      "\t0.4007\tproduct        \t\t0.7158\tuse            \n",
      "\t0.7158\tuse            \t\t0.4007\tproduct        \n",
      "\t0.9818\theadset        \t\t0.3319\tquality        \n",
      "\t1.8587\twell           \t\t0.3072\tphone          \n",
      "\t2.4173\tworks          \t\t-0.0406\t's             \n",
      "None\n"
     ]
    }
   ],
   "source": [
    "print \"Most informative features:\"\n",
    "print \"NAIVE BAYES: \"\n",
    "print show_most_informative_features(vectorizer, classifier_nb, n=10)\n",
    "print \"SVC: \"\n",
    "print show_most_informative_features(vectorizer, classifier_svc, n=10)\n",
    "print \"LOGISTIC REGRESSION: \"\n",
    "print show_most_informative_features(vectorizer, classifier_logit, n=10)"
   ]
  },
  {
   "cell_type": "markdown",
   "metadata": {},
   "source": [
    "## Evaluate: training set\n",
    "\n",
    "- Precision: the ability of the classifier not to label as positive a sample that is negative.\n",
    "- Recall: the ability of the classifier to find all the positive samples.\n",
    "- F1-score: weighted average of precision and recall\n"
   ]
  },
  {
   "cell_type": "code",
   "execution_count": 7,
   "metadata": {},
   "outputs": [
    {
     "name": "stdout",
     "output_type": "stream",
     "text": [
      "NAIVE BAYES: \n",
      "Accuracy:  57.0 %\n",
      "             precision    recall  f1-score   support\n",
      "\n",
      "   negative       0.61      0.37      0.46       395\n",
      "   positive       0.56      0.77      0.64       405\n",
      "\n",
      "avg / total       0.58      0.57      0.55       800\n",
      "\n",
      "[[ Confusion matrix ]]\n",
      "             | Predicted: + | Predicted: - |\n",
      "             |--------------|--------------|\n",
      "   Actual: + |          310 |           95 |\n",
      "   Actual: - |          248 |          147 |\n",
      "\n",
      "SVC: \n",
      "Accuracy:  70.0 %\n",
      "             precision    recall  f1-score   support\n",
      "\n",
      "   negative       0.63      0.94      0.75       395\n",
      "   positive       0.89      0.46      0.61       405\n",
      "\n",
      "avg / total       0.76      0.70      0.68       800\n",
      "\n",
      "[[ Confusion matrix ]]\n",
      "             | Predicted: + | Predicted: - |\n",
      "             |--------------|--------------|\n",
      "   Actual: + |          188 |          217 |\n",
      "   Actual: - |           24 |          371 |\n",
      "\n",
      "LOGISTIC REGRESSION: \n",
      "Accuracy:  70.0 %\n",
      "             precision    recall  f1-score   support\n",
      "\n",
      "   negative       0.63      0.94      0.75       395\n",
      "   positive       0.89      0.46      0.61       405\n",
      "\n",
      "avg / total       0.76      0.70      0.68       800\n",
      "\n",
      "[[ Confusion matrix ]]\n",
      "             | Predicted: + | Predicted: - |\n",
      "             |--------------|--------------|\n",
      "   Actual: + |          188 |          217 |\n",
      "   Actual: - |           24 |          371 |\n",
      "\n"
     ]
    }
   ],
   "source": [
    "# GET PREDICTIONS\n",
    "predictions_nb = classifier_nb.predict(training_vector)\n",
    "predictions_svc = classifier_svc.predict(training_vector)\n",
    "predictions_logit = classifier_logit.predict(training_vector)\n",
    "\n",
    "print \"NAIVE BAYES: \"\n",
    "evaluate(training_labels,predictions_nb) \n",
    "\n",
    "print \"SVC: \"\n",
    "evaluate(training_labels,predictions_svc) \n",
    "\n",
    "print \"LOGISTIC REGRESSION: \"\n",
    "evaluate(training_labels,predictions_logit)\n"
   ]
  },
  {
   "cell_type": "markdown",
   "metadata": {},
   "source": [
    "## Evaluate: validation set"
   ]
  },
  {
   "cell_type": "code",
   "execution_count": 8,
   "metadata": {},
   "outputs": [
    {
     "name": "stdout",
     "output_type": "stream",
     "text": [
      "NAIVE BAYES: \n",
      "Accuracy:  48.0 %\n",
      "             precision    recall  f1-score   support\n",
      "\n",
      "   negative       0.51      0.27      0.35       105\n",
      "   positive       0.47      0.72      0.57        95\n",
      "\n",
      "avg / total       0.49      0.48      0.45       200\n",
      "\n",
      "[[ Confusion matrix ]]\n",
      "             | Predicted: + | Predicted: - |\n",
      "             |--------------|--------------|\n",
      "   Actual: + |           68 |           27 |\n",
      "   Actual: - |           77 |           28 |\n",
      "\n",
      "SVC: \n",
      "Accuracy:  65.0 %\n",
      "             precision    recall  f1-score   support\n",
      "\n",
      "   negative       0.61      0.90      0.73       105\n",
      "   positive       0.77      0.36      0.49        95\n",
      "\n",
      "avg / total       0.69      0.65      0.61       200\n",
      "\n",
      "[[ Confusion matrix ]]\n",
      "             | Predicted: + | Predicted: - |\n",
      "             |--------------|--------------|\n",
      "   Actual: + |           34 |           61 |\n",
      "   Actual: - |           10 |           95 |\n",
      "\n",
      "LOGISTIC REGRESSION: \n",
      "Accuracy:  65.0 %\n",
      "             precision    recall  f1-score   support\n",
      "\n",
      "   negative       0.61      0.90      0.73       105\n",
      "   positive       0.77      0.36      0.49        95\n",
      "\n",
      "avg / total       0.69      0.65      0.61       200\n",
      "\n",
      "[[ Confusion matrix ]]\n",
      "             | Predicted: + | Predicted: - |\n",
      "             |--------------|--------------|\n",
      "   Actual: + |           34 |           61 |\n",
      "   Actual: - |           10 |           95 |\n",
      "\n"
     ]
    }
   ],
   "source": [
    "# APPLY FEATURES TO VALIDATION SET\n",
    "valid_vector = vectorizer.transform(valid_reviews)\n",
    "\n",
    "# GET PREDICTIONS\n",
    "predictions_nb = classifier_nb.predict(valid_vector)\n",
    "predictions_svc = classifier_svc.predict(valid_vector)\n",
    "predictions_logit = classifier_logit.predict(valid_vector)\n",
    "\n",
    "print \"NAIVE BAYES: \"\n",
    "evaluate(valid_labels,predictions_nb) \n",
    "\n",
    "print \"SVC: \"\n",
    "evaluate(valid_labels,predictions_svc) \n",
    "\n",
    "print \"LOGISTIC REGRESSION: \"\n",
    "evaluate(valid_labels,predictions_logit) \n",
    "\n"
   ]
  },
  {
   "cell_type": "markdown",
   "metadata": {},
   "source": [
    "## Evaluate using a different dataset"
   ]
  },
  {
   "cell_type": "code",
   "execution_count": 9,
   "metadata": {},
   "outputs": [
    {
     "name": "stdout",
     "output_type": "stream",
     "text": [
      "Reading from:  datasets/tripadvisor_reviews.txt\n",
      "File loaded in  0.0525 s\n",
      "n = 15101\n",
      "Applying features...\n",
      "Predicting...\n",
      "Evaluating...\n",
      "NAIVE BAYES: \n",
      "Accuracy:  76.0 %\n",
      "             precision    recall  f1-score   support\n",
      "\n",
      "   negative       0.30      0.49      0.37      2171\n",
      "   positive       0.90      0.81      0.85     12930\n",
      "\n",
      "avg / total       0.82      0.76      0.78     15101\n",
      "\n",
      "[[ Confusion matrix ]]\n",
      "             | Predicted: + | Predicted: - |\n",
      "             |--------------|--------------|\n",
      "   Actual: + |        10412 |         2518 |\n",
      "   Actual: - |         1107 |         1064 |\n",
      "\n",
      "SVC: \n",
      "Accuracy:  65.0 %\n",
      "             precision    recall  f1-score   support\n",
      "\n",
      "   negative       0.24      0.70      0.36      2171\n",
      "   positive       0.93      0.64      0.76     12930\n",
      "\n",
      "avg / total       0.83      0.65      0.70     15101\n",
      "\n",
      "[[ Confusion matrix ]]\n",
      "             | Predicted: + | Predicted: - |\n",
      "             |--------------|--------------|\n",
      "   Actual: + |         8242 |         4688 |\n",
      "   Actual: - |          652 |         1519 |\n",
      "\n",
      "LOGISTIC REGRESSION: \n",
      "Accuracy:  65.0 %\n",
      "             precision    recall  f1-score   support\n",
      "\n",
      "   negative       0.25      0.70      0.36      2171\n",
      "   positive       0.93      0.64      0.76     12930\n",
      "\n",
      "avg / total       0.83      0.65      0.70     15101\n",
      "\n",
      "[[ Confusion matrix ]]\n",
      "             | Predicted: + | Predicted: - |\n",
      "             |--------------|--------------|\n",
      "   Actual: + |         8236 |         4694 |\n",
      "   Actual: - |          645 |         1526 |\n",
      "\n"
     ]
    }
   ],
   "source": [
    "# PICK A DATASET TO USE\n",
    "#path = 'datasets/amazon_cells_labelled.txt'   # amazon   n = 1000\n",
    "#path = 'datasets/sa_processed_7817_1.txt'   # kindles    n = 1053\n",
    "#path = 'datasets/amazon_fine_foods_cleaned.txt'   # foods  n = 525814\n",
    "#path = 'datasets/Amazon_unlocked_phones.txt'  # phones   n = 27000\n",
    "path = 'datasets/tripadvisor_reviews.txt'   # tripadvisor   n = 15000\n",
    "review_text,review_labels = read_file(path)\n",
    "\n",
    "# APPLY FEATURES TO DATA SET\n",
    "print \"Applying features...\"\n",
    "vector = vectorizer.transform(review_text)\n",
    "\n",
    "# GET PREDICTIONS\n",
    "print \"Predicting...\"\n",
    "predictions_nb = classifier_nb.predict(vector)\n",
    "predictions_svc = classifier_svc.predict(vector)\n",
    "predictions_logit = classifier_logit.predict(vector)\n",
    "\n",
    "print \"Evaluating...\"\n",
    "print \"NAIVE BAYES: \"\n",
    "evaluate(review_labels,predictions_nb) \n",
    "\n",
    "print \"SVC: \"\n",
    "evaluate(review_labels,predictions_svc) \n",
    "\n",
    "print \"LOGISTIC REGRESSION: \"\n",
    "evaluate(review_labels,predictions_logit) \n"
   ]
  },
  {
   "cell_type": "markdown",
   "metadata": {},
   "source": [
    "### Display incorrectly classified reviews"
   ]
  },
  {
   "cell_type": "code",
   "execution_count": 10,
   "metadata": {
    "scrolled": false
   },
   "outputs": [
    {
     "name": "stdout",
     "output_type": "stream",
     "text": [
      "Fantastic as usual with friendly service ... We always head here after nursing the usual high cost city hangover - but don't worry at Ballans you will never feel ripped off ! 3 types of eggs to choose from all cooked to perfection with a lovely sausage , toast , beans and small pieces of hash browns take a beer on the side and enjoy your trip to balans don't even look another way in the Westfield this is THE place to go !!!! Come on\n",
      "prediction:  0  - actual value:  1\n",
      "Yes, you have to wait a while to get in, yes the service isn't that wonderful and yes you will in all likely hood have to sit next to some stranger but the ramen is pretty top drawer in my opinion and as a result I will continue to return as long as that continues.\n",
      "prediction:  0  - actual value:  1\n",
      "Enjoyed a really lovely meal with the family here. It didn't have the feel of a newly opened restaurant, as the staff were brilliant, atmosphere was spot on and the food was super tasty. Highly recommend their pork summer rolls and yellow Vietnamese curry off the specials board :) Will definitely be coming back here!\n",
      "prediction:  0  - actual value:  1\n",
      "This is a really interesting place. It is a sort of cross between a cafÃ© in Amsterdam or Paris and a cafÃ© in Sicily. The service was excellent and very attentive. They ensured we were happy with the meal and did more than just the basic meet and greet. I had a full English breakfast and it covered a large plate with well cooked and presented food. It is always a pleasure when you are served freshly squeezed oranges rather than these concentrates. It was not particularly busy but there was a fair amount of passing trade. We will go back and possibly for the evening meal as the menu looked full of potential with an emphasis on Italian food. If you don't know Finchley, Ballards Lane does not really do scenic views!\n",
      "prediction:  0  - actual value:  1\n",
      "For the prices they charge I would like more than a bowl of lukewarm not that tasty ramen. Even blad ramen can be satisfying if its hot and the noodles are good. But they committed the ultimate ramen sin and I wont be going back. Will be going to bone daddies round the corner instead\n",
      "prediction:  1  - actual value:  0\n",
      "I love tonkotsu and was disappointed to find that theirs was bland: like the user G7_G7 said in his review, the broth should have been more creamy.Service was excellent and prices were OK but if they called the restaurant after the tonkotsu soup then they should be able to serve a proper one which is not the case for now unfortunately.\n",
      "prediction:  1  - actual value:  0\n",
      "This is one very big venue. The welcome and service from the staff here was excellent. The attention to detail and the quality of food was faultless. It is Fine dining without stretching your budget. The venue is suitable for for both couples and large groups. Will definitely visit this venue again.\n",
      "prediction:  0  - actual value:  1\n"
     ]
    }
   ],
   "source": [
    "# SHOW FIRST N ERRORS \n",
    "N = 5\n",
    "# get indices of bad predictions\n",
    "A = predictions_nb==review_labels\n",
    "B = np.where(A==False)\n",
    "for i,b in enumerate(B[0]):\n",
    "    print review_text[b]\n",
    "    print \"prediction: \", predictions_nb[b], \" - actual value: \", review_labels[b]\n",
    "    if i > N:\n",
    "        break\n"
   ]
  },
  {
   "cell_type": "markdown",
   "metadata": {},
   "source": [
    "## Write a review and see it classified before your eyes! "
   ]
  },
  {
   "cell_type": "code",
   "execution_count": 11,
   "metadata": {},
   "outputs": [
    {
     "name": "stdout",
     "output_type": "stream",
     "text": [
      "This seems like a fine product but I could never get it to work properly.\n",
      "predictions:  ['0'] ['0'] ['0']\n"
     ]
    }
   ],
   "source": [
    "test_review = ['This seems like a fine product but I could never get it to work properly.']\n",
    "\n",
    "# APPLY FEATURES TO DATA SET\n",
    "vector = vectorizer.transform(test_review)\n",
    "\n",
    "# GET PREDICTIONS\n",
    "predictions_nb = classifier_nb.predict(vector)\n",
    "predictions_svc = classifier_svc.predict(vector)\n",
    "predictions_logit = classifier_logit.predict(vector)\n",
    "\n",
    "print test_review[0]\n",
    "print \"predictions: \", predictions_nb, predictions_svc, predictions_logit\n",
    "\n"
   ]
  },
  {
   "cell_type": "markdown",
   "metadata": {},
   "source": [
    "## Evaluate different word frequencies"
   ]
  },
  {
   "cell_type": "code",
   "execution_count": 12,
   "metadata": {},
   "outputs": [
    {
     "name": "stdout",
     "output_type": "stream",
     "text": [
      "Reading from:  datasets/amazon_cells_labelled.txt\n",
      "File loaded in  0.002 s\n",
      "n = 1000\n",
      "Divided into: training set ( n = 800 ), validation set ( n = 200 )\n",
      "Vectorizer with i = 1 ...\n",
      "# of features identified:  1789\n",
      "Vectorizer with i = 2 ...\n",
      "# of features identified:  601\n",
      "Vectorizer with i = 3 ...\n",
      "# of features identified:  347\n",
      "Vectorizer with i = 4 ...\n",
      "# of features identified:  236\n",
      "Vectorizer with i = 5 ...\n",
      "# of features identified:  174\n",
      "Vectorizer with i = 6 ...\n",
      "# of features identified:  131\n",
      "Vectorizer with i = 7 ...\n",
      "# of features identified:  112\n",
      "Vectorizer with i = 8 ...\n",
      "# of features identified:  88\n",
      "Vectorizer with i = 9 ...\n",
      "# of features identified:  72\n",
      "[0.02749999999999997, 0.06999999999999995, 0.11624999999999996, 0.15500000000000003, 0.19125000000000003, 0.21875, 0.22999999999999998, 0.255, 0.27] [0.21999999999999997, 0.235, 0.26, 0.275, 0.29000000000000004, 0.31499999999999995, 0.31000000000000005, 0.33999999999999997, 0.37]\n"
     ]
    },
    {
     "data": {
      "image/png": "[encoded data removed]",
      "text/plain": [
       "<Figure size 432x288 with 1 Axes>"
      ]
     },
     "metadata": {
      "needs_background": "light"
     },
     "output_type": "display_data"
    }
   ],
   "source": [
    "def display_learning_curve(train_loss,valid_loss,x_axis,y_axis_label=\"Loss\",title=\"Learning curve\"):\n",
    "    pylab.figure()\n",
    "    x_axis = r\n",
    "    pylab.plot(x_axis, train_loss) \n",
    "    pylab.plot(x_axis, valid_loss) \n",
    "    pylab.grid(True) # affiche un grille\n",
    "    pylab.xlabel('minimum word frequency')\n",
    "    pylab.ylabel(y_axis_label)\n",
    "    pylab.ylim(ymin=0)\n",
    "    pylab.legend(('training','validation')) \n",
    "#    pylab.title(title)\n",
    "\n",
    "np.random.seed(514)\n",
    "valid_set_percent = 20\n",
    "\n",
    "# LOAD SELECTED FILE\n",
    "path = 'datasets/amazon_cells_labelled.txt'   # amazon   n = 1000\n",
    "#path = 'datasets/sa_processed_7817_1.txt'   # kindles    n = 1053\n",
    "#path = 'datasets/amazon_fine_foods_cleaned.txt'   # foods  n = 525814\n",
    "#path = 'datasets/Amazon_unlocked_phones.txt'  # phones   n = 27000\n",
    "#path = 'datasets/tripadvisor_reviews.txt'   # tripadvisor   n = 15000\n",
    "review_text,review_labels = read_file(path)\n",
    "\n",
    "# SPLIT INTO TRAINING AND VALIDATION SETS\n",
    "if (valid_set_percent < 100.0):\n",
    "    valid_set_size = int(len(review_text)*(valid_set_percent/100.0))\n",
    "    indices = range(len(review_text))\n",
    "    np.random.shuffle(indices)\n",
    "    training_reviews = [review_text[x] for x in indices[valid_set_size:]]\n",
    "    training_labels = [review_labels[x] for x in indices[valid_set_size:]]\n",
    "    valid_reviews = [review_text[x] for x in indices[:valid_set_size]]\n",
    "    valid_labels = [review_labels[x] for x in indices[:valid_set_size]]\n",
    "    print \"Divided into: training set ( n =\",len(training_reviews),\"), validation set ( n =\", len(valid_reviews),\")\"\n",
    "else:\n",
    "    print \"Validation set size must be less than 100%!\"\n",
    "    \n",
    "train_acc = []\n",
    "valid_acc = []\n",
    "\n",
    "r = range(1,10)  \n",
    "#r = range(1,100,5)\n",
    "\n",
    "for i in r:\n",
    "    print \"Vectorizer with i =\", i, \"...\"\n",
    "\n",
    "    stops = (stopwords.words('english')) + list(string.punctuation)\n",
    "    neg_stops = [word + \"_NEG\" for word in stops] \n",
    "\n",
    "    # create the transform\n",
    "    vectorizer = TfidfVectorizer(lowercase=True,stop_words=(stops + neg_stops),\n",
    "                                 strip_accents='unicode',min_df=i,tokenizer=tokenize)\n",
    "\n",
    "    # tokenize and build vocab\n",
    "    vectorizer.fit(training_reviews)\n",
    "\n",
    "    # summarize\n",
    "    #print (vectorizer.vocabulary_), (vectorizer.idf_)\n",
    "    print \"# of features identified: \", len(vectorizer.vocabulary_)\n",
    "\n",
    "    # encode document\n",
    "    training_vector = vectorizer.transform(training_reviews)\n",
    "    valid_vector = vectorizer.transform(valid_reviews)\n",
    "    \n",
    "    # NAIVE BAYES\n",
    "    classifier_nb = MultinomialNB()\n",
    "    classifier_nb.fit(training_vector, training_labels)\n",
    "\n",
    "    # SVC\n",
    "    classifier_svc = LinearSVC()\n",
    "    classifier_svc.fit(training_vector, training_labels)\n",
    "\n",
    "    # LOGISTIC REGRESSION (MAXENT)\n",
    "    classifier_logit = LogisticRegression()\n",
    "    classifier_logit.fit(training_vector, training_labels)\n",
    "    \n",
    "    # APPLY FEATURES TO VALIDATION SET\n",
    "    training_vector = vectorizer.transform(training_reviews)\n",
    "\n",
    "    # GET PREDICTIONS\n",
    "    predictions_nb_t = classifier_nb.predict(training_vector)\n",
    "    predictions_svc_t = classifier_svc.predict(training_vector)\n",
    "    predictions_logit_t = classifier_logit.predict(training_vector)\n",
    "\n",
    "    accuracy = accuracy_score(training_labels, predictions_nb_t)\n",
    "    train_acc.append(1.0-accuracy)\n",
    "\n",
    "    # APPLY FEATURES TO VALIDATION SET\n",
    "    valid_vector = vectorizer.transform(valid_reviews)\n",
    "\n",
    "    # GET PREDICTIONS\n",
    "    predictions_nb_v = classifier_nb.predict(valid_vector)\n",
    "    predictions_svc_v = classifier_svc.predict(valid_vector)\n",
    "    predictions_logit_v = classifier_logit.predict(valid_vector)\n",
    "\n",
    "    accuracy = accuracy_score(valid_labels, predictions_nb_v)\n",
    "    valid_acc.append(1.0-accuracy)\n",
    "\n",
    "    \n",
    "print train_acc, valid_acc\n",
    "display_learning_curve(train_acc,valid_acc,r,y_axis_label=\"Error\",title=\"Learning curve\")\n"
   ]
  },
  {
   "cell_type": "code",
   "execution_count": null,
   "metadata": {},
   "outputs": [],
   "source": []
  }
 ],
 "metadata": {
  "kernelspec": {
   "display_name": "Python 2",
   "language": "python",
   "name": "python2"
  },
  "language_info": {
   "codemirror_mode": {
    "name": "ipython",
    "version": 2
   },
   "file_extension": ".py",
   "mimetype": "text/x-python",
   "name": "python",
   "nbconvert_exporter": "python",
   "pygments_lexer": "ipython2",
   "version": "2.7.16"
  }
 },
 "nbformat": 4,
 "nbformat_minor": 2
}
